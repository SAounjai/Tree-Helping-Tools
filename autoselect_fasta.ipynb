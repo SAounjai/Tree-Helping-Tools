{
 "cells": [
  {
   "cell_type": "code",
   "execution_count": 10,
   "metadata": {},
   "outputs": [
    {
     "data": {
      "text/plain": [
       "181"
      ]
     },
     "execution_count": 10,
     "metadata": {},
     "output_type": "execute_result"
    }
   ],
   "source": [
    "from Bio import SeqIO\n",
    "\n",
    "# Path to your original FASTA file\n",
    "input_fasta_file = \"/path/to/original.fasta\"\n",
    "\n",
    "# Path to your list of sequences\n",
    "sequence_list_file = \"/path/to/SequenceList.txt\"\n",
    "\n",
    "# Path to the new output FASTA file\n",
    "output_fasta_file = \"/path/to/output.fasta\"\n",
    "\n",
    "# Read the list of sequence IDs\n",
    "with open(sequence_list_file, \"r\") as f:\n",
    "    sequence_ids = set(line.strip() for line in f)\n",
    "\n",
    "# Create a new FASTA file with only the selected sequences\n",
    "selected_sequences = []\n",
    "\n",
    "for record in SeqIO.parse(input_fasta_file, \"fasta\"):\n",
    "    if record.id in sequence_ids:\n",
    "        selected_sequences.append(record)\n",
    "\n",
    "# Write the selected sequences to the new FASTA file\n",
    "SeqIO.write(selected_sequences, output_fasta_file, \"fasta\")"
   ]
  }
 ],
 "metadata": {
  "kernelspec": {
   "display_name": "Python 3",
   "language": "python",
   "name": "python3"
  },
  "language_info": {
   "codemirror_mode": {
    "name": "ipython",
    "version": 3
   },
   "file_extension": ".py",
   "mimetype": "text/x-python",
   "name": "python",
   "nbconvert_exporter": "python",
   "pygments_lexer": "ipython3",
   "version": "3.11.3"
  },
  "orig_nbformat": 4
 },
 "nbformat": 4,
 "nbformat_minor": 2
}
