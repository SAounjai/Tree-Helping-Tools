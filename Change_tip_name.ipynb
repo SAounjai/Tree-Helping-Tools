{
 "cells": [
  {
   "cell_type": "code",
   "execution_count": null,
   "metadata": {},
   "outputs": [],
   "source": [
    "from Bio import Phylo\n",
    "\n",
    "# Load your phylogenetic tree (replace 'tree_file.newick' with your file)\n",
    "tree = Phylo.read('tree_file.newick', 'newick')\n",
    "\n",
    "# Define a dictionary to map old names to new names\n",
    "name_mapping = {\n",
    "    'OldName1': 'NewName1',\n",
    "    'OldName2': 'NewName2',\n",
    "    # Add more mappings as needed\n",
    "}\n",
    "\n",
    "# Iterate through the tree and rename tips\n",
    "for tip in tree.get_terminals():\n",
    "    old_name = tip.name\n",
    "    if old_name in name_mapping:\n",
    "        tip.name = name_mapping[old_name]\n",
    "\n",
    "# Save the modified tree to a new file\n",
    "Phylo.write(tree, 'new_tree_file.newick', 'newick')\n"
   ]
  }
 ],
 "metadata": {
  "language_info": {
   "name": "python"
  },
  "orig_nbformat": 4
 },
 "nbformat": 4,
 "nbformat_minor": 2
}
