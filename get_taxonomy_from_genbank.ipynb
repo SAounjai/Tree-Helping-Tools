{
 "cells": [
  {
   "cell_type": "code",
   "execution_count": 3,
   "metadata": {},
   "outputs": [],
   "source": [
    "import requests\n",
    "import csv\n",
    "\n",
    "def get_organism_info(accession_numbers, output_csv):\n",
    "    base_url = \"https://eutils.ncbi.nlm.nih.gov/entrez/eutils/efetch.fcgi\"\n",
    "    db = \"nuccore\"\n",
    "    rettype = \"gb\"\n",
    "    retmode = \"text\"\n",
    "\n",
    "    with open(output_csv, 'w', newline='') as csvfile:\n",
    "        csv_writer = csv.writer(csvfile)\n",
    "        csv_writer.writerow([\"Accession Number\", \"Organism Name\", \"Taxonomy\"])\n",
    "\n",
    "        for accession_number in accession_numbers:\n",
    "            url = f\"{base_url}?db={db}&id={accession_number}&rettype={rettype}&retmode={retmode}\"\n",
    "            response = requests.get(url)\n",
    "\n",
    "            if response.status_code == 200:\n",
    "                record_lines = response.text.splitlines()\n",
    "                organism_line = next((line for line in record_lines if \"ORGANISM\" in line), None)\n",
    "\n",
    "                if organism_line:\n",
    "                    organism_name = organism_line.split(\"  \")[-1].strip()\n",
    "                    taxonomy_lines = [line.strip() for line in record_lines if line.startswith(\"            \")]\n",
    "                    taxonomy = \" \".join(taxonomy_lines)\n",
    "\n",
    "                    csv_writer.writerow([accession_number, organism_name, taxonomy])\n",
    "                else:\n",
    "                    csv_writer.writerow([accession_number, \"Organism name not found\", \"Taxonomy not found\"])\n",
    "\n",
    "            else:\n",
    "                csv_writer.writerow([accession_number, f\"Error fetching data. Status code: {response.status_code}\", \"\"])\n",
    "\n",
    "if __name__ == \"__main__\":\n",
    "    # Replace \"your_accession_numbers_file.txt\" and \"output_organism_info.csv\" with the actual file paths\n",
    "    with open(\"/path/to/SequenceList.txt\", \"r\") as file:\n",
    "        accession_numbers = [line.strip() for line in file]\n",
    "\n",
    "    get_organism_info(accession_numbers, \"/path/to/output.csv\")\n"
   ]
  },
  {
   "cell_type": "code",
   "execution_count": null,
   "metadata": {},
   "outputs": [],
   "source": []
  }
 ],
 "metadata": {
  "kernelspec": {
   "display_name": "Python 3",
   "language": "python",
   "name": "python3"
  },
  "language_info": {
   "codemirror_mode": {
    "name": "ipython",
    "version": 3
   },
   "file_extension": ".py",
   "mimetype": "text/x-python",
   "name": "python",
   "nbconvert_exporter": "python",
   "pygments_lexer": "ipython3",
   "version": "3.11.3"
  }
 },
 "nbformat": 4,
 "nbformat_minor": 2
}
