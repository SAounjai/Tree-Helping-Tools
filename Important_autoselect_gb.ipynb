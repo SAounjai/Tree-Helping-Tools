{
 "cells": [
  {
   "cell_type": "code",
   "execution_count": 7,
   "metadata": {},
   "outputs": [
    {
     "name": "stdout",
     "output_type": "stream",
     "text": [
      "680 sequences selected and saved to /Users/sarawut/Downloads/selected_sequences_honduras.gb\n"
     ]
    }
   ],
   "source": [
    "from Bio import SeqIO\n",
    "\n",
    "# Path to your GenBank file\n",
    "genbank_file_path = \"/Users/sarawut/Downloads/All_new_MMG.gb\"\n",
    "\n",
    "# Path to the text file containing sequence names\n",
    "sequence_names_file_path = \"/Users/sarawut/Downloads/sequence_names_honduras.txt\"\n",
    "\n",
    "# Read the list of sequence names\n",
    "with open(sequence_names_file_path) as f:\n",
    "    sequence_names = [line.strip() for line in f]\n",
    "\n",
    "# Initialize a list to store selected sequences\n",
    "selected_sequences = []\n",
    "\n",
    "# Iterate through the GenBank file and select sequences\n",
    "with open(genbank_file_path) as gb_file:\n",
    "    for record in SeqIO.parse(gb_file, \"genbank\"):\n",
    "        if record.name in sequence_names:\n",
    "            selected_sequences.append(record)\n",
    "\n",
    "# Write the selected sequences to a new GenBank file\n",
    "output_file_path = \"/Users/sarawut/Downloads/selected_sequences_honduras.gb\"\n",
    "SeqIO.write(selected_sequences, output_file_path, \"genbank\")\n",
    "\n",
    "print(f\"{len(selected_sequences)} sequences selected and saved to {output_file_path}\")\n"
   ]
  }
 ],
 "metadata": {
  "kernelspec": {
   "display_name": "Python 3",
   "language": "python",
   "name": "python3"
  },
  "language_info": {
   "codemirror_mode": {
    "name": "ipython",
    "version": 3
   },
   "file_extension": ".py",
   "mimetype": "text/x-python",
   "name": "python",
   "nbconvert_exporter": "python",
   "pygments_lexer": "ipython3",
   "version": "3.11.3"
  },
  "orig_nbformat": 4
 },
 "nbformat": 4,
 "nbformat_minor": 2
}
