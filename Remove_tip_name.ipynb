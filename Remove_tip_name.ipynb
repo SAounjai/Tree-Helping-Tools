{
 "cells": [
  {
   "cell_type": "code",
   "execution_count": null,
   "metadata": {},
   "outputs": [],
   "source": [
    "/Users/sarawut/Desktop/tree_thesis.nwk"
   ]
  },
  {
   "cell_type": "code",
   "execution_count": 1,
   "metadata": {},
   "outputs": [
    {
     "name": "stdout",
     "output_type": "stream",
     "text": [
      "Tree processing and writing to .nwk completed successfully.\n"
     ]
    }
   ],
   "source": [
    "from Bio import Phylo\n",
    "\n",
    "def remove_name_tip_after_tilde(node):\n",
    "    # Check if the node is a leaf node (terminal) or an internal node\n",
    "    if node.is_terminal():\n",
    "        # Get the name of the node\n",
    "        name = node.name\n",
    "\n",
    "        # Check if the node name contains a tilde\n",
    "        if name and '~' in name:\n",
    "            # Remove text after the tilde\n",
    "            name = name.split('~')[0]\n",
    "\n",
    "        # Update the name of the leaf node\n",
    "        node.name = name\n",
    "    else:\n",
    "        # For internal nodes, recursively process child clades\n",
    "        for child in node.clades:\n",
    "            remove_name_tip_after_tilde(child)\n",
    "\n",
    "# Replace 'input_tree.nwk' with the path to your input .nwk file\n",
    "input_file = '/Users/sarawut/Library/CloudStorage/OneDrive-ImperialCollegeLondon/Python_Script/Fiona.tree'\n",
    "\n",
    "# Read the tree from the .nwk file\n",
    "tree = Phylo.read(input_file, 'newick')\n",
    "\n",
    "# Create a new copy of the tree to avoid modifying the original tree\n",
    "modified_tree = tree.__class__(tree.root)\n",
    "\n",
    "# Remove name tips after the tilde from all leaf nodes in the modified tree\n",
    "remove_name_tip_after_tilde(modified_tree.root)\n",
    "\n",
    "# Replace 'output_tree.nwk' with the desired path for your output .nwk file\n",
    "output_file = '/Users/sarawut/Library/CloudStorage/OneDrive-ImperialCollegeLondon/Python_Script/Fiona1.tre'\n",
    "\n",
    "# Write the modified tree to a new .nwk file\n",
    "Phylo.write([modified_tree], output_file, 'newick')\n",
    "\n",
    "print(\"Tree processing and writing to .nwk completed successfully.\")\n"
   ]
  }
 ],
 "metadata": {
  "kernelspec": {
   "display_name": "Python 3",
   "language": "python",
   "name": "python3"
  },
  "language_info": {
   "codemirror_mode": {
    "name": "ipython",
    "version": 3
   },
   "file_extension": ".py",
   "mimetype": "text/x-python",
   "name": "python",
   "nbconvert_exporter": "python",
   "pygments_lexer": "ipython3",
   "version": "3.11.3"
  },
  "orig_nbformat": 4
 },
 "nbformat": 4,
 "nbformat_minor": 2
}
