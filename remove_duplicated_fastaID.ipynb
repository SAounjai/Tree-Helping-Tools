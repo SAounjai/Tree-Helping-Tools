{
 "cells": [
  {
   "cell_type": "code",
   "execution_count": null,
   "metadata": {},
   "outputs": [],
   "source": [
    "import os\n",
    "\n",
    "def remove_duplicates(input_folder, output_folder):\n",
    "    # Create the output folder if it doesn't exist\n",
    "    os.makedirs(output_folder, exist_ok=True)\n",
    "\n",
    "    # Iterate over each file in the input folder\n",
    "    for filename in os.listdir(input_folder):\n",
    "        if filename.endswith(\".fasta\"):\n",
    "            input_path = os.path.join(input_folder, filename)\n",
    "            output_path = os.path.join(output_folder, filename)\n",
    "            unique_ids = set()\n",
    "            sequences = {}  # Dictionary to store sequences for each ID\n",
    "\n",
    "            # Read the input FASTA file and remove duplicate IDs\n",
    "            with open(input_path, \"r\") as input_file:\n",
    "                current_id = None\n",
    "                for line in input_file:\n",
    "                    if line.startswith(\">\"):\n",
    "                        id_ = line.strip()\n",
    "                        if id_ not in unique_ids:\n",
    "                            unique_ids.add(id_)\n",
    "                        current_id = id_\n",
    "                        sequences[current_id] = \"\"\n",
    "                    else:\n",
    "                        sequences[current_id] += line  # Append sequence line\n",
    "\n",
    "            # Write unique IDs with their corresponding sequences to the output file\n",
    "            with open(output_path, \"w\") as output_file:\n",
    "                for id_, sequence in sequences.items():\n",
    "                    output_file.write(id_ + \"\\n\")\n",
    "                    output_file.write(sequence)\n",
    "\n",
    "    print(\"Duplicates removed and files saved in\", output_folder)\n",
    "\n",
    "# Specify input and output folders\n",
    "input_folder = \"/path/to/input_folder\"\n",
    "output_folder = \"/path/to/output_folder\"\n",
    "\n",
    "# Call the function\n",
    "remove_duplicates(input_folder, output_folder)\n"
   ]
  }
 ],
 "metadata": {
  "kernelspec": {
   "display_name": "Python 3",
   "language": "python",
   "name": "python3"
  },
  "language_info": {
   "codemirror_mode": {
    "name": "ipython",
    "version": 3
   },
   "file_extension": ".py",
   "mimetype": "text/x-python",
   "name": "python",
   "nbconvert_exporter": "python",
   "pygments_lexer": "ipython3",
   "version": "3.11.3"
  }
 },
 "nbformat": 4,
 "nbformat_minor": 2
}
